{
 "cells": [
  {
   "cell_type": "markdown",
   "id": "f9a9303e",
   "metadata": {},
   "source": [
    "### Exercici 1\n",
    "\n",
    "Crea una funció que donat un Array d’una dimensió, et faci un resum estadístic bàsic de les dades. Si detecta que l’array té més d’una dimensió, ha de mostrar un missatge d’error.\n"
   ]
  },
  {
   "cell_type": "code",
   "execution_count": 19,
   "id": "14d72ca4",
   "metadata": {},
   "outputs": [
    {
     "name": "stdout",
     "output_type": "stream",
     "text": [
      "[ 2  3  2  4  1  2  3  4  5  7  9 43  2 34  9]\n",
      "Valor medio : 8.67\n",
      "Valor mediana: 4.0\n",
      "valor varianza: 145.42\n",
      "Valor desviación standard: 12.06\n",
      "Valor primer cuantil: 2.0\n",
      "Valor tercer cuantil: 8.0\n",
      "\n",
      "[[ 2  3]\n",
      " [ 2 34]]\n",
      "Dimensión de array errónea\n",
      "\n",
      "[1 1 1 1 1 1]\n",
      "Valor medio : 1.0\n",
      "Valor mediana: 1.0\n",
      "valor varianza: 0.0\n",
      "Valor desviación standard: 0.0\n",
      "Valor primer cuantil: 1.0\n",
      "Valor tercer cuantil: 1.0\n"
     ]
    }
   ],
   "source": [
    "import numpy as np\n",
    "def analisis_array1d(array):\n",
    "    if (array.ndim !=1):\n",
    "        print(\"Dimensión de array errónea\")\n",
    "    else:\n",
    "        print(\"Valor medio : \"+str(round(np.mean(array),2)))\n",
    "        print(\"Valor mediana: \"+str(round(np.median(array),2)))\n",
    "        print(\"valor varianza: \"+str(round(np.var(array),2)))\n",
    "        print(\"Valor desviación standard: \"+str(round(np.std(array),2)))\n",
    "        print(\"Valor primer cuantil: \"+str(round(np.percentile(array,25),2)))\n",
    "        print(\"Valor tercer cuantil: \"+str(round(np.percentile(array,75),2)))\n",
    "        \n",
    "array_ejemplo=np.array([2,3,2,4,1,2,3,4,5,7,9,43,2,34,9])\n",
    "print(array_ejemplo)\n",
    "analisis_array1d(array_ejemplo)\n",
    "print()\n",
    "\n",
    "array_ej2=np.array([[2,3],[2,34]])\n",
    "print(array_ej2)\n",
    "analisis_array1d(array_ej2)\n",
    "print()\n",
    "array_ej3=np.array([1,1,1,1,1,1])\n",
    "print(array_ej3)\n",
    "analisis_array1d(array_ej3)"
   ]
  },
  {
   "cell_type": "markdown",
   "id": "96d4df1e",
   "metadata": {},
   "source": [
    "### Exercici 2\n",
    "\n",
    "Crea una funció que et generi un quadrat NxN de nombres aleatoris entre el 0 i el 100.\n"
   ]
  },
  {
   "cell_type": "code",
   "execution_count": 20,
   "id": "6c1f7302",
   "metadata": {},
   "outputs": [
    {
     "name": "stdout",
     "output_type": "stream",
     "text": [
      "[[15 25  1 23]\n",
      " [52 88 78 20]\n",
      " [93 59 82 50]\n",
      " [62 99 43 35]]\n"
     ]
    }
   ],
   "source": [
    "\n",
    "#generar numero y despues reshape\n",
    "\n",
    "import random\n",
    "\n",
    "def generador_aleat(veces):\n",
    "     return random.sample(range(0,100),veces*veces)\n",
    "\n",
    "dimension=input(\"Introduce el valor de la forma de la matriz NxN\")\n",
    "dimension=int(dimension) #pasamos a int , sin control de errores \n",
    "matriz=np.array(generador_aleat(dimension))\n",
    "\n",
    "mat_final=matriz.reshape(dimension,dimension)\n",
    "print(mat_final)"
   ]
  },
  {
   "cell_type": "markdown",
   "id": "d2e4aee2",
   "metadata": {},
   "source": [
    "### Exercici 3\n",
    "\n",
    "Crea una funció que donada una taula de dues dimensions, et calculi els totals per fila i els totals per columna."
   ]
  },
  {
   "cell_type": "code",
   "execution_count": 21,
   "id": "df59b8df",
   "metadata": {},
   "outputs": [
    {
     "name": "stdout",
     "output_type": "stream",
     "text": [
      "La matriz ejemplo: \n",
      "[[75 19 88 26 82]\n",
      " [34  4 91 21 96]\n",
      " [30 23 41 86 55]\n",
      " [68 60 20 51 66]\n",
      " [77 33  5 56 38]\n",
      " [94 12 97 16 59]]\n",
      "La suma de las filas calculado mediante bucle:\n",
      "[290, 246, 235, 265, 209, 278]\n"
     ]
    }
   ],
   "source": [
    "import numpy as np\n",
    "import random\n",
    "\n",
    "medida1=random.randint(2,10)\n",
    "medida2=random.randint(2,10)\n",
    "matriz=np.array(random.sample(range(0,100),medida1*medida2))\n",
    "matriz=matriz.reshape(medida1,medida2)\n",
    "#column,row=3,5\n",
    "#a=np.array([range(row)for _ in range(column)])#añadir random y #medidas dim\n",
    "print(\"La matriz ejemplo: \")\n",
    "print(matriz)\n",
    "\n",
    "maximos_filas=[]\n",
    "def suma_filas(array):\n",
    "    #suma por filas:\n",
    "    for x in array:\n",
    "        acumulacion=0\n",
    "        for i in x:\n",
    "            acumulacion+=i\n",
    "        maximos_filas.append(acumulacion)\n",
    "    print(maximos_filas)\n",
    "print(\"La suma de las filas calculado mediante bucle:\")    \n",
    "suma_filas(matriz)\n"
   ]
  },
  {
   "cell_type": "code",
   "execution_count": 22,
   "id": "b7717049",
   "metadata": {},
   "outputs": [
    {
     "name": "stdout",
     "output_type": "stream",
     "text": [
      "Calculadas con fuunciones de numpy\n",
      "Totales de cada columna [378 151 342 256 396]\n",
      "Totales de cada fila [290 246 235 265 209 278]\n"
     ]
    }
   ],
   "source": [
    "#modo DAtaScience\n",
    "print(\"Calculadas con fuunciones de numpy\")\n",
    "print(\"Totales de cada columna \"+str(np.add.reduce(matriz,axis=0)))#suma columnas\n",
    "print(\"Totales de cada fila \"+str(np.add.reduce(matriz,axis=1)))#suma filas\n",
    "\n"
   ]
  },
  {
   "cell_type": "markdown",
   "id": "a9e5e118",
   "metadata": {},
   "source": [
    "### Exercici 4\n",
    "\n",
    "Implementa manualment una funció que calculi el coeficient de correlació. Informa’t-en sobre els seus usos i interpretació."
   ]
  },
  {
   "cell_type": "code",
   "execution_count": 23,
   "id": "165f58f6",
   "metadata": {},
   "outputs": [
    {
     "name": "stdout",
     "output_type": "stream",
     "text": [
      "Variable1: [8 8 3 7 7 0 4 2 5 2 2 2 1 0 8 4 0 9 6 2 4 1 5 3 4 4 3 7 1 1 7 7 0 2 9 9 3\n",
      " 2 5 8 1 0 7 6 2 0 8 2 5 1]\n",
      "variable2: [ 13.92575746   8.37958129   6.71967572  10.59753947   5.59603535\n",
      "  -4.43738512   9.68770162   7.38488768  18.15574179  16.78978297\n",
      "   4.21426255  -9.17894159  -0.8499993   -4.31187446   9.42536252\n",
      " -10.96393454   3.0687456    8.5365277   10.17144275  -4.03770522\n",
      "  10.85967248   9.59973786   6.91555442  14.78227928  10.00283569\n",
      " -14.44659863   3.4258809    6.75915012   4.84057844   0.50907502\n",
      "  -9.01691177   5.61237434   0.12086266 -10.98144167   7.71113962\n",
      "   6.17078367   1.20831746   8.75751769  28.80595342  -3.46700861\n",
      "  -1.91143345  -8.54225772  15.63406468   2.8361877   -7.02225772\n",
      "  -7.38562393   4.04661119   2.84200853   3.14377547  12.08439231]\n",
      "Coeficiente correlación 0.3350183976385703\n",
      "\n",
      "Coeficiente calculado mediante función corrcoef de numpy\n"
     ]
    }
   ],
   "source": [
    "import numpy as np\n",
    "np.random.seed (100)\n",
    "\n",
    "#crea una matriz de 50 enteros aleatorios entre 0 y 10\n",
    "var1 = np.random.randint (0, 10, 50)\n",
    "print(\"Variable1: \"+ str(var1))\n",
    "#crear una matriz correlacionada positivamente con algo de ruido aleatorio\n",
    "var2 = var1 + np.random.normal (0, 10, 50)\n",
    "print(\"variable2: \"+str(var2))\n",
    "\n",
    "#calcular la correlación entre las dos matrices\n",
    "print(\"Coeficiente correlación \"+str(np.corrcoef(var1, var2)[0,1]))\n",
    " \n",
    "print()\n",
    "print(\"Coeficiente calculado mediante función corrcoef de numpy\")"
   ]
  },
  {
   "attachments": {},
   "cell_type": "markdown",
   "id": "3cf96cb5",
   "metadata": {},
   "source": [
    "\n",
    "- El coeficiente de correlación nos da una idea númerica de lo cercana que es la relación lineal entre 2 variables.Para su calculo nos podemos aproximar desde la idea de que el coeficiente de correlación es el valor de covarianza estandarizado por las desviaciones estandard de las variables individuales .<I>(ρ=Cov(X,Y)/σxσy)</I>\n",
    "\n"
   ]
  },
  {
   "cell_type": "code",
   "execution_count": 24,
   "id": "ec3752fb",
   "metadata": {},
   "outputs": [
    {
     "name": "stdout",
     "output_type": "stream",
     "text": [
      "0.3350183976385703\n",
      "Calculado mediante la covarianza y las desviaciones estandard\n"
     ]
    }
   ],
   "source": [
    "import numpy as np\n",
    "def calculo_corr(var1,var2):\n",
    "    numerador=np.multiply((var1-np.mean(var1)),(var2-np.mean(var2)))\n",
    "    denominador=np.std(var2)*np.std(var1)\n",
    "    print(np.mean(numerador/denominador))\n",
    "    \n",
    "calculo_corr(var1,var2)\n",
    "print(\"Calculado mediante la covarianza y las desviaciones estandard\")"
   ]
  },
  {
   "cell_type": "markdown",
   "id": "7d20fa4d",
   "metadata": {},
   "source": [
    "- Lo ideal es graficar los puntos para comrpobar si hay puntos anormales que hagan que el valor de correlación nos haga asumir hipótesis erróneas.\n",
    "- Por otro lado que el valor de la correlación sea alto (es decir cercano a 1), no tiene porque ser una prueba de casualidad entre las 2 variables.\n",
    "- Por supuesto , el coeficiente de correlación lineal solo sirve para procesos que se ajustan a relaciones lineales. Si las variables se relacionan por otro tipo de relación no nos servirá."
   ]
  }
 ],
 "metadata": {
  "hide_input": false,
  "kernelspec": {
   "display_name": "Python 3",
   "language": "python",
   "name": "python3"
  },
  "language_info": {
   "codemirror_mode": {
    "name": "ipython",
    "version": 3
   },
   "file_extension": ".py",
   "mimetype": "text/x-python",
   "name": "python",
   "nbconvert_exporter": "python",
   "pygments_lexer": "ipython3",
   "version": "3.9.7"
  },
  "toc": {
   "base_numbering": 1,
   "nav_menu": {},
   "number_sections": true,
   "sideBar": true,
   "skip_h1_title": false,
   "title_cell": "Table of Contents",
   "title_sidebar": "Contents",
   "toc_cell": false,
   "toc_position": {},
   "toc_section_display": true,
   "toc_window_display": false
  },
  "varInspector": {
   "cols": {
    "lenName": 16,
    "lenType": 16,
    "lenVar": 40
   },
   "kernels_config": {
    "python": {
     "delete_cmd_postfix": "",
     "delete_cmd_prefix": "del ",
     "library": "var_list.py",
     "varRefreshCmd": "print(var_dic_list())"
    },
    "r": {
     "delete_cmd_postfix": ") ",
     "delete_cmd_prefix": "rm(",
     "library": "var_list.r",
     "varRefreshCmd": "cat(var_dic_list()) "
    }
   },
   "types_to_exclude": [
    "module",
    "function",
    "builtin_function_or_method",
    "instance",
    "_Feature"
   ],
   "window_display": false
  }
 },
 "nbformat": 4,
 "nbformat_minor": 5
}
